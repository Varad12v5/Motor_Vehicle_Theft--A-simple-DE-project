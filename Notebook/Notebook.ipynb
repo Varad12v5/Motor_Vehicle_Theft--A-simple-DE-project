{
 "cells": [
  {
   "cell_type": "code",
   "execution_count": 0,
   "metadata": {
    "application/vnd.databricks.v1+cell": {
     "cellMetadata": {
      "byteLimit": 2048000,
      "rowLimit": 10000
     },
     "inputWidgets": {},
     "nuid": "55c12392-5773-4f4a-b4cf-1ce3b6b6cda1",
     "showTitle": false,
     "tableResultSettingsMap": {},
     "title": ""
    }
   },
   "outputs": [],
   "source": [
    "from pyspark.sql.functions import *"
   ]
  },
  {
   "cell_type": "code",
   "execution_count": 0,
   "metadata": {
    "application/vnd.databricks.v1+cell": {
     "cellMetadata": {
      "byteLimit": 2048000,
      "rowLimit": 10000
     },
     "inputWidgets": {},
     "nuid": "0575c091-615a-4adc-a835-748151705cd0",
     "showTitle": false,
     "tableResultSettingsMap": {},
     "title": ""
    }
   },
   "outputs": [],
   "source": [
    "spark.conf.set(\"fs.azure.account.key.vehicletheftvarad.blob.core.windows.net\",\n",
    "               dbutils.secrets.get(\"dbScope\",\"saSecret\"))\n",
    "\n",
    "\n"
   ]
  },
  {
   "cell_type": "code",
   "execution_count": 0,
   "metadata": {
    "application/vnd.databricks.v1+cell": {
     "cellMetadata": {
      "byteLimit": 2048000,
      "rowLimit": 10000
     },
     "inputWidgets": {},
     "nuid": "54e59d10-0ca2-4eaf-968a-3c7762fa9498",
     "showTitle": false,
     "tableResultSettingsMap": {},
     "title": ""
    }
   },
   "outputs": [],
   "source": [
    "location_df = spark.read.csv(\"wasbs://bronze@vehicletheftvarad.blob.core.windows.net/locations.csv\", header=True,inferSchema=True)\n",
    "make_details_df = spark.read.csv(\"wasbs://bronze@vehicletheftvarad.blob.core.windows.net/make_details.csv\", header=True,inferSchema=True)\n",
    "database_df=spark.read.csv(\"wasbs://bronze@vehicletheftvarad.blob.core.windows.net/stolen_vehicles_db_data_dictionary.csv\", header=True,inferSchema=True)\n",
    "stolen_vehicles_df=spark.read.csv(\"wasbs://bronze@vehicletheftvarad.blob.core.windows.net/stolen_vehicles.csv\", header=True,inferSchema=True)\n",
    "\n"
   ]
  },
  {
   "cell_type": "code",
   "execution_count": 0,
   "metadata": {
    "application/vnd.databricks.v1+cell": {
     "cellMetadata": {
      "byteLimit": 2048000,
      "rowLimit": 10000
     },
     "inputWidgets": {},
     "nuid": "3a45b853-d7c1-433f-9c5d-6e4e5601126d",
     "showTitle": false,
     "tableResultSettingsMap": {},
     "title": ""
    }
   },
   "outputs": [
    {
     "output_type": "stream",
     "name": "stdout",
     "output_type": "stream",
     "text": [
      "root\n |-- location_id: integer (nullable = true)\n |-- region: string (nullable = true)\n |-- country: string (nullable = true)\n |-- population: string (nullable = true)\n |-- density: double (nullable = true)\n\n"
     ]
    }
   ],
   "source": [
    "location_df.printSchema()"
   ]
  },
  {
   "cell_type": "code",
   "execution_count": 0,
   "metadata": {
    "application/vnd.databricks.v1+cell": {
     "cellMetadata": {
      "byteLimit": 2048000,
      "rowLimit": 10000
     },
     "inputWidgets": {},
     "nuid": "efc2af4e-7a14-4dc7-b5ad-18736a46f6df",
     "showTitle": false,
     "tableResultSettingsMap": {},
     "title": ""
    }
   },
   "outputs": [],
   "source": [
    "location_df = location_df.withColumn(\"Population\", \n",
    "                                    regexp_replace(col(\"Population\"), \",\", \"\")\n",
    "                                    .cast(\"integer\"))\n"
   ]
  },
  {
   "cell_type": "code",
   "execution_count": 0,
   "metadata": {
    "application/vnd.databricks.v1+cell": {
     "cellMetadata": {
      "byteLimit": 2048000,
      "rowLimit": 10000
     },
     "inputWidgets": {},
     "nuid": "d0058eaf-4f64-42df-8401-b66852a7054b",
     "showTitle": false,
     "tableResultSettingsMap": {},
     "title": ""
    }
   },
   "outputs": [
    {
     "output_type": "stream",
     "name": "stdout",
     "output_type": "stream",
     "text": [
      "+-----------+---------+-----------+----------+-------+\n|location_id|   region|    country|Population|density|\n+-----------+---------+-----------+----------+-------+\n|        101|Northland|New Zealand|    201500|  16.11|\n|        102| Auckland|New Zealand|   1695200| 343.09|\n+-----------+---------+-----------+----------+-------+\nonly showing top 2 rows\n"
     ]
    }
   ],
   "source": [
    "location_df.show(2)"
   ]
  },
  {
   "cell_type": "code",
   "execution_count": 0,
   "metadata": {
    "application/vnd.databricks.v1+cell": {
     "cellMetadata": {
      "byteLimit": 2048000,
      "rowLimit": 10000
     },
     "inputWidgets": {},
     "nuid": "34643485-c456-4b2d-a53e-e620e75506d3",
     "showTitle": false,
     "tableResultSettingsMap": {},
     "title": ""
    }
   },
   "outputs": [
    {
     "output_type": "stream",
     "name": "stdout",
     "output_type": "stream",
     "text": [
      "root\n |-- location_id: integer (nullable = true)\n |-- region: string (nullable = true)\n |-- country: string (nullable = true)\n |-- Population: integer (nullable = true)\n |-- density: double (nullable = true)\n\n"
     ]
    }
   ],
   "source": [
    "location_df.printSchema()"
   ]
  },
  {
   "cell_type": "code",
   "execution_count": 0,
   "metadata": {
    "application/vnd.databricks.v1+cell": {
     "cellMetadata": {
      "byteLimit": 2048000,
      "rowLimit": 10000
     },
     "inputWidgets": {},
     "nuid": "f3fb638c-a36a-473a-a437-658d96ca7c5a",
     "showTitle": false,
     "tableResultSettingsMap": {},
     "title": ""
    }
   },
   "outputs": [
    {
     "output_type": "stream",
     "name": "stdout",
     "output_type": "stream",
     "text": [
      "root\n |-- make_id: integer (nullable = true)\n |-- make_name: string (nullable = true)\n |-- make_type: string (nullable = true)\n\n"
     ]
    }
   ],
   "source": [
    "make_details_df.printSchema()"
   ]
  },
  {
   "cell_type": "code",
   "execution_count": 0,
   "metadata": {
    "application/vnd.databricks.v1+cell": {
     "cellMetadata": {
      "byteLimit": 2048000,
      "rowLimit": 10000
     },
     "inputWidgets": {},
     "nuid": "e8feeb7a-f3b7-4687-a020-32655869e248",
     "showTitle": false,
     "tableResultSettingsMap": {},
     "title": ""
    }
   },
   "outputs": [
    {
     "output_type": "stream",
     "name": "stdout",
     "output_type": "stream",
     "text": [
      "+-------+-------------+---------+\n|make_id|    make_name|make_type|\n+-------+-------------+---------+\n|    501|Aakron Xpress| Standard|\n|    502|         ADLY| Standard|\n+-------+-------------+---------+\nonly showing top 2 rows\n"
     ]
    }
   ],
   "source": [
    "make_details_df.show(2)"
   ]
  },
  {
   "cell_type": "code",
   "execution_count": 0,
   "metadata": {
    "application/vnd.databricks.v1+cell": {
     "cellMetadata": {
      "byteLimit": 2048000,
      "rowLimit": 10000
     },
     "inputWidgets": {},
     "nuid": "8e92f210-c682-4d04-b260-e78b3c1ff957",
     "showTitle": false,
     "tableResultSettingsMap": {},
     "title": ""
    }
   },
   "outputs": [
    {
     "output_type": "stream",
     "name": "stdout",
     "output_type": "stream",
     "text": [
      "root\n |-- Table: string (nullable = true)\n |-- Field: string (nullable = true)\n |-- Description: string (nullable = true)\n\n"
     ]
    }
   ],
   "source": [
    "database_df.printSchema()"
   ]
  },
  {
   "cell_type": "code",
   "execution_count": 0,
   "metadata": {
    "application/vnd.databricks.v1+cell": {
     "cellMetadata": {
      "byteLimit": 2048000,
      "rowLimit": 10000
     },
     "inputWidgets": {},
     "nuid": "cefa923e-1767-4a3b-a3f7-626c4ce41587",
     "showTitle": false,
     "tableResultSettingsMap": {},
     "title": ""
    }
   },
   "outputs": [
    {
     "output_type": "stream",
     "name": "stdout",
     "output_type": "stream",
     "text": [
      "+---------------+------------+--------------------+\n|          Table|       Field|         Description|\n+---------------+------------+--------------------+\n|stolen_vehicles|  vehicle_id|Unique ID of a st...|\n|stolen_vehicles|vehicle_type|     Type of vehicle|\n+---------------+------------+--------------------+\nonly showing top 2 rows\n"
     ]
    }
   ],
   "source": [
    "database_df.show(2)"
   ]
  },
  {
   "cell_type": "code",
   "execution_count": 0,
   "metadata": {
    "application/vnd.databricks.v1+cell": {
     "cellMetadata": {
      "byteLimit": 2048000,
      "rowLimit": 10000
     },
     "inputWidgets": {},
     "nuid": "32e1605f-8f56-4f92-94c3-daddcd808cb1",
     "showTitle": false,
     "tableResultSettingsMap": {},
     "title": ""
    }
   },
   "outputs": [
    {
     "output_type": "stream",
     "name": "stdout",
     "output_type": "stream",
     "text": [
      "root\n |-- vehicle_id: integer (nullable = true)\n |-- vehicle_type: string (nullable = true)\n |-- make_id: integer (nullable = true)\n |-- model_year: integer (nullable = true)\n |-- vehicle_desc: string (nullable = true)\n |-- color: string (nullable = true)\n |-- date_stolen: date (nullable = true)\n |-- location_id: integer (nullable = true)\n\n"
     ]
    }
   ],
   "source": [
    "stolen_vehicles_df.printSchema()"
   ]
  },
  {
   "cell_type": "code",
   "execution_count": 0,
   "metadata": {
    "application/vnd.databricks.v1+cell": {
     "cellMetadata": {
      "byteLimit": 2048000,
      "rowLimit": 10000
     },
     "inputWidgets": {},
     "nuid": "730b2114-053b-4248-a1f5-3de98e308d07",
     "showTitle": false,
     "tableResultSettingsMap": {},
     "title": ""
    }
   },
   "outputs": [
    {
     "output_type": "stream",
     "name": "stdout",
     "output_type": "stream",
     "text": [
      "+----------+------------+-------+----------+-------------------+------+-----------+-----------+\n|vehicle_id|vehicle_type|make_id|model_year|       vehicle_desc| color|date_stolen|location_id|\n+----------+------------+-------+----------+-------------------+------+-----------+-----------+\n|         1|     Trailer|    623|      2021|           BST2021D|Silver| 2021-11-05|        102|\n|         2|Boat Trailer|    623|      2021|OUTBACK BOATS FT470|Silver| 2021-12-13|        105|\n+----------+------------+-------+----------+-------------------+------+-----------+-----------+\nonly showing top 2 rows\n"
     ]
    }
   ],
   "source": [
    "stolen_vehicles_df.show(2)"
   ]
  },
  {
   "cell_type": "code",
   "execution_count": 0,
   "metadata": {
    "application/vnd.databricks.v1+cell": {
     "cellMetadata": {
      "byteLimit": 2048000,
      "rowLimit": 10000
     },
     "inputWidgets": {},
     "nuid": "703cf078-3930-425f-89ca-ab05d719f870",
     "showTitle": false,
     "tableResultSettingsMap": {},
     "title": ""
    }
   },
   "outputs": [],
   "source": [
    "location_df = location_df.toDF(*[Column.lower().replace(\" \", \"_\") for Column in location_df.columns])\n",
    "make_details_df = make_details_df.toDF(*[Column.lower().replace(\" \", \"_\") for Column in make_details_df.columns])\n",
    "stolen_vehicles_df = stolen_vehicles_df.toDF(*[Column.lower().replace(\" \", \"_\") for Column in stolen_vehicles_df.columns])\n",
    "database_df = database_df.toDF(*[Column.lower().replace(\" \", \"_\") for Column in database_df.columns])\n"
   ]
  },
  {
   "cell_type": "code",
   "execution_count": 0,
   "metadata": {
    "application/vnd.databricks.v1+cell": {
     "cellMetadata": {},
     "inputWidgets": {},
     "nuid": "41d215d2-fd8a-4782-bc69-82267f7f736a",
     "showTitle": false,
     "tableResultSettingsMap": {},
     "title": ""
    }
   },
   "outputs": [],
   "source": [
    "spark.conf.set(\n",
    "    \"fs.azure.account.key.vehicletheftvarad.dfs.core.windows.net\",\n",
    "    dbutils.secrets.get(\"dbScope\", \"saSecret\")\n",
    ")"
   ]
  },
  {
   "cell_type": "markdown",
   "metadata": {
    "application/vnd.databricks.v1+cell": {
     "cellMetadata": {},
     "inputWidgets": {},
     "nuid": "1c230f92-444b-4c90-933c-5d2e64acfe4c",
     "showTitle": false,
     "tableResultSettingsMap": {},
     "title": ""
    }
   },
   "source": [
    "## Move data to Silver layer Storage"
   ]
  },
  {
   "cell_type": "code",
   "execution_count": 0,
   "metadata": {
    "application/vnd.databricks.v1+cell": {
     "cellMetadata": {
      "byteLimit": 2048000,
      "rowLimit": 10000
     },
     "inputWidgets": {},
     "nuid": "162f5ff0-15de-46f3-8db9-23bb2a36fd6f",
     "showTitle": false,
     "tableResultSettingsMap": {},
     "title": ""
    }
   },
   "outputs": [],
   "source": [
    "\n",
    "location_df.write.option(\"header\", True).csv(\n",
    "    \"abfss://silver@vehicletheftvarad.dfs.core.windows.net/location/\"\n",
    ")\n",
    "\n",
    "make_details_df.write.option(\"header\", True).csv(\n",
    "    \"abfss://silver@vehicletheftvarad.dfs.core.windows.net/make_details/\"\n",
    ")\n",
    "\n",
    "stolen_vehicles_df.write.option(\"header\", True).csv(\n",
    "\"abfss://silver@vehicletheftvarad.dfs.core.windows.net/stolen_vehicles/\"\n",
    ")\n",
    "\n",
    "database_df.write.option(\"header\", True).csv(\n",
    "\"abfss://silver@vehicletheftvarad.dfs.core.windows.net/database/\"\n",
    ")\n",
    "\n"
   ]
  },
  {
   "cell_type": "code",
   "execution_count": 0,
   "metadata": {
    "application/vnd.databricks.v1+cell": {
     "cellMetadata": {
      "byteLimit": 2048000,
      "rowLimit": 10000
     },
     "inputWidgets": {},
     "nuid": "55a51d73-5ac6-423e-a504-6ab068391580",
     "showTitle": false,
     "tableResultSettingsMap": {},
     "title": ""
    }
   },
   "outputs": [
    {
     "output_type": "stream",
     "name": "stdout",
     "output_type": "stream",
     "text": [
      "+-----------+-------------+-----------+----------+-------+\n|location_id|       region|    country|population|density|\n+-----------+-------------+-----------+----------+-------+\n|        101|    Northland|New Zealand|    201500|  16.11|\n|        102|     Auckland|New Zealand|   1695200| 343.09|\n|        103|      Waikato|New Zealand|    513800|   21.5|\n|        104|Bay of Plenty|New Zealand|    347700|   28.8|\n|        105|     Gisborne|New Zealand|     52100|   6.21|\n+-----------+-------------+-----------+----------+-------+\nonly showing top 5 rows\n"
     ]
    }
   ],
   "source": [
    "location_df.show(5)"
   ]
  },
  {
   "cell_type": "code",
   "execution_count": 0,
   "metadata": {
    "application/vnd.databricks.v1+cell": {
     "cellMetadata": {
      "byteLimit": 2048000,
      "rowLimit": 10000
     },
     "inputWidgets": {},
     "nuid": "23a2738b-c66d-456a-b4ae-e175b19547b0",
     "showTitle": false,
     "tableResultSettingsMap": {},
     "title": ""
    }
   },
   "outputs": [],
   "source": [
    "null_count_location = location_df.select([sum(when(col(column).isNull(), 1).otherwise(0)).alias(column) for column in location_df.columns])\n",
    "null_count_make_details = make_details_df.select([sum(when(col(column).isNull(), 1).otherwise(0)).alias(column) for column in make_details_df.columns])\n",
    "null_count_stolen_vehicles = stolen_vehicles_df.select([sum(when(col(column).isNull(), 1).otherwise(0)).alias(column) for column in stolen_vehicles_df.columns])\n",
    "null_count_database = database_df.select([sum(when(col(column).isNull(), 1).otherwise(0)).alias(column) for column in database_df.columns])\n"
   ]
  },
  {
   "cell_type": "code",
   "execution_count": 0,
   "metadata": {
    "application/vnd.databricks.v1+cell": {
     "cellMetadata": {
      "byteLimit": 2048000,
      "rowLimit": 10000
     },
     "inputWidgets": {},
     "nuid": "79d91871-9a33-47d5-83bd-05768060d7dd",
     "showTitle": false,
     "tableResultSettingsMap": {},
     "title": ""
    }
   },
   "outputs": [
    {
     "output_type": "stream",
     "name": "stdout",
     "output_type": "stream",
     "text": [
      "+-----------+------+-------+----------+-------+\n|location_id|region|country|population|density|\n+-----------+------+-------+----------+-------+\n|          0|     0|      0|         0|      0|\n+-----------+------+-------+----------+-------+\n\n"
     ]
    }
   ],
   "source": [
    "null_count_location.show()"
   ]
  },
  {
   "cell_type": "code",
   "execution_count": 0,
   "metadata": {
    "application/vnd.databricks.v1+cell": {
     "cellMetadata": {
      "byteLimit": 2048000,
      "rowLimit": 10000
     },
     "inputWidgets": {},
     "nuid": "c6125b82-e711-40f9-9d74-b9302315ffe2",
     "showTitle": false,
     "tableResultSettingsMap": {},
     "title": ""
    }
   },
   "outputs": [
    {
     "output_type": "stream",
     "name": "stdout",
     "output_type": "stream",
     "text": [
      "+-------+---------+---------+\n|make_id|make_name|make_type|\n+-------+---------+---------+\n|      0|        0|        0|\n+-------+---------+---------+\n\n"
     ]
    }
   ],
   "source": [
    "null_count_make_details.show()"
   ]
  },
  {
   "cell_type": "code",
   "execution_count": 0,
   "metadata": {
    "application/vnd.databricks.v1+cell": {
     "cellMetadata": {
      "byteLimit": 2048000,
      "rowLimit": 10000
     },
     "inputWidgets": {},
     "nuid": "c98d7194-4e85-4aef-85c5-be7947a2601b",
     "showTitle": false,
     "tableResultSettingsMap": {},
     "title": ""
    }
   },
   "outputs": [
    {
     "output_type": "stream",
     "name": "stdout",
     "output_type": "stream",
     "text": [
      "+----------+------------+-------+----------+------------+-----+-----------+-----------+\n|vehicle_id|vehicle_type|make_id|model_year|vehicle_desc|color|date_stolen|location_id|\n+----------+------------+-------+----------+------------+-----+-----------+-----------+\n|         0|          26|     15|        15|          33|   15|          0|          0|\n+----------+------------+-------+----------+------------+-----+-----------+-----------+\n\n"
     ]
    }
   ],
   "source": [
    "null_count_stolen_vehicles.show()"
   ]
  },
  {
   "cell_type": "code",
   "execution_count": 0,
   "metadata": {
    "application/vnd.databricks.v1+cell": {
     "cellMetadata": {
      "byteLimit": 2048000,
      "rowLimit": 10000
     },
     "inputWidgets": {},
     "nuid": "f2e990c3-7eb2-49ba-9843-8c6087a7e8c3",
     "showTitle": false,
     "tableResultSettingsMap": {},
     "title": ""
    }
   },
   "outputs": [
    {
     "output_type": "stream",
     "name": "stdout",
     "output_type": "stream",
     "text": [
      "+-----+-----+-----------+\n|table|field|description|\n+-----+-----+-----------+\n|    0|    0|          0|\n+-----+-----+-----------+\n\n"
     ]
    }
   ],
   "source": [
    "null_count_database.show()"
   ]
  },
  {
   "cell_type": "code",
   "execution_count": 0,
   "metadata": {
    "application/vnd.databricks.v1+cell": {
     "cellMetadata": {
      "byteLimit": 2048000,
      "rowLimit": 10000
     },
     "inputWidgets": {},
     "nuid": "13f343d4-bbd3-460e-a637-35c94dc9e35a",
     "showTitle": false,
     "tableResultSettingsMap": {},
     "title": ""
    }
   },
   "outputs": [
    {
     "output_type": "stream",
     "name": "stdout",
     "output_type": "stream",
     "text": [
      "root\n |-- vehicle_id: integer (nullable = true)\n |-- vehicle_type: string (nullable = true)\n |-- make_id: integer (nullable = true)\n |-- model_year: integer (nullable = true)\n |-- vehicle_desc: string (nullable = true)\n |-- color: string (nullable = true)\n |-- date_stolen: date (nullable = true)\n |-- location_id: integer (nullable = true)\n\n"
     ]
    }
   ],
   "source": [
    "stolen_vehicles_df.printSchema()"
   ]
  },
  {
   "cell_type": "markdown",
   "metadata": {
    "application/vnd.databricks.v1+cell": {
     "cellMetadata": {},
     "inputWidgets": {},
     "nuid": "ffdc94dd-4178-4f5c-a015-b3100a3db7fa",
     "showTitle": false,
     "tableResultSettingsMap": {},
     "title": ""
    }
   },
   "source": [
    "### Replacing null values in df stolen_vehicles_df"
   ]
  },
  {
   "cell_type": "code",
   "execution_count": 0,
   "metadata": {
    "application/vnd.databricks.v1+cell": {
     "cellMetadata": {
      "byteLimit": 2048000,
      "rowLimit": 10000
     },
     "inputWidgets": {},
     "nuid": "d4324748-ad6c-4b68-8201-bffe9a7a5681",
     "showTitle": false,
     "tableResultSettingsMap": {},
     "title": ""
    }
   },
   "outputs": [],
   "source": [
    "stolen_vehicles_df = stolen_vehicles_df.fillna({\n",
    "    \"vehicle_type\": \"No data\",\n",
    "    \"make_id\": 0,\n",
    "    \"model_year\": 0,\n",
    "    \"vehicle_desc\": \"No data\",\n",
    "    \"color\": \"No data\"\n",
    "})\n"
   ]
  },
  {
   "cell_type": "code",
   "execution_count": 0,
   "metadata": {
    "application/vnd.databricks.v1+cell": {
     "cellMetadata": {
      "byteLimit": 2048000,
      "rowLimit": 10000
     },
     "inputWidgets": {},
     "nuid": "0fa66b5f-4ffa-4387-8cb6-bae71c3b55d3",
     "showTitle": false,
     "tableResultSettingsMap": {},
     "title": ""
    }
   },
   "outputs": [
    {
     "output_type": "stream",
     "name": "stdout",
     "output_type": "stream",
     "text": [
      "+----------+------------+-------+----------+------------+-----+-----------+-----------+\n|vehicle_id|vehicle_type|make_id|model_year|vehicle_desc|color|date_stolen|location_id|\n+----------+------------+-------+----------+------------+-----+-----------+-----------+\n|         0|           0|      0|         0|           0|    0|          0|          0|\n+----------+------------+-------+----------+------------+-----+-----------+-----------+\n\n"
     ]
    }
   ],
   "source": [
    "null_count_stolen_vehicles = stolen_vehicles_df.select([sum(when(col(column).isNull(), 1).otherwise(0)).alias(column) for column in stolen_vehicles_df.columns])\n",
    "null_count_stolen_vehicles.show()"
   ]
  },
  {
   "cell_type": "code",
   "execution_count": 0,
   "metadata": {
    "application/vnd.databricks.v1+cell": {
     "cellMetadata": {
      "byteLimit": 2048000,
      "rowLimit": 10000
     },
     "inputWidgets": {},
     "nuid": "34a56c42-3d84-4c2e-96a4-5cd12fa5b7cc",
     "showTitle": false,
     "tableResultSettingsMap": {},
     "title": ""
    }
   },
   "outputs": [
    {
     "output_type": "execute_result",
     "data": {
      "text/plain": [
       "[Row(vehicle_id=4549, vehicle_type='No data', make_id=0, model_year=0, vehicle_desc='No data', color='No data', date_stolen=datetime.date(2022, 2, 18), location_id=102),\n",
       " Row(vehicle_id=4550, vehicle_type='No data', make_id=0, model_year=0, vehicle_desc='No data', color='No data', date_stolen=datetime.date(2022, 2, 14), location_id=109),\n",
       " Row(vehicle_id=4551, vehicle_type='No data', make_id=0, model_year=0, vehicle_desc='No data', color='No data', date_stolen=datetime.date(2022, 3, 9), location_id=102),\n",
       " Row(vehicle_id=4552, vehicle_type='No data', make_id=0, model_year=0, vehicle_desc='No data', color='No data', date_stolen=datetime.date(2022, 3, 7), location_id=109),\n",
       " Row(vehicle_id=4553, vehicle_type='No data', make_id=0, model_year=0, vehicle_desc='No data', color='No data', date_stolen=datetime.date(2022, 3, 14), location_id=102)]"
      ]
     },
     "execution_count": 36,
     "metadata": {},
     "output_type": "execute_result"
    }
   ],
   "source": [
    "stolen_vehicles_df.tail(5)"
   ]
  },
  {
   "cell_type": "markdown",
   "metadata": {
    "application/vnd.databricks.v1+cell": {
     "cellMetadata": {},
     "inputWidgets": {},
     "nuid": "5f655a09-38b6-49b2-b8f0-ae6ba1dc354a",
     "showTitle": false,
     "tableResultSettingsMap": {},
     "title": ""
    }
   },
   "source": [
    "### Sending data to Gold Layer"
   ]
  },
  {
   "cell_type": "code",
   "execution_count": 0,
   "metadata": {
    "application/vnd.databricks.v1+cell": {
     "cellMetadata": {
      "byteLimit": 2048000,
      "rowLimit": 10000
     },
     "inputWidgets": {},
     "nuid": "c25a1a90-b60e-4add-a809-9a15e306acbe",
     "showTitle": false,
     "tableResultSettingsMap": {},
     "title": ""
    }
   },
   "outputs": [],
   "source": [
    "\n",
    "location_df.write.option(\"header\", True).csv(\n",
    "    \"abfss://gold@vehicletheftvarad.dfs.core.windows.net/location/\"\n",
    ")\n",
    "\n",
    "make_details_df.write.option(\"header\", True).csv(\n",
    "    \"abfss://gold@vehicletheftvarad.dfs.core.windows.net/make_details/\"\n",
    ")\n",
    "\n",
    "stolen_vehicles_df.write.option(\"header\", True).csv(\n",
    "\"abfss://gold@vehicletheftvarad.dfs.core.windows.net/stolen_vehicles/\"\n",
    ")\n",
    "\n",
    "database_df.write.option(\"header\", True).csv(\n",
    "\"abfss://gold@vehicletheftvarad.dfs.core.windows.net/database/\"\n",
    ")\n",
    "\n"
   ]
  }
 ],
 "metadata": {
  "application/vnd.databricks.v1+notebook": {
   "computePreferences": {
    "hardware": {
     "accelerator": null,
     "gpuPoolId": null,
     "memory": null
    }
   },
   "dashboards": [],
   "environmentMetadata": {
    "base_environment": "",
    "environment_version": "3"
   },
   "inputWidgetPreferences": null,
   "language": "python",
   "notebookMetadata": {
    "pythonIndentUnit": 4
   },
   "notebookName": "Notebook",
   "widgets": {}
  },
  "language_info": {
   "name": "python"
  }
 },
 "nbformat": 4,
 "nbformat_minor": 0
}